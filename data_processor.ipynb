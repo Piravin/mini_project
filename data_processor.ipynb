{
 "cells": [
  {
   "cell_type": "code",
   "execution_count": 3,
   "metadata": {},
   "outputs": [],
   "source": [
    "content = open(\"./lorenz_system/raw_data.lst\")\n",
    "text = content.readlines()"
   ]
  },
  {
   "cell_type": "code",
   "execution_count": 4,
   "metadata": {},
   "outputs": [],
   "source": [
    "xbits = int(input('Enter Xi bits: '))\n",
    "ybits = int(input('Enter Yi bits: '))\n",
    "zbits = int(input('Enter Zi bits: '))"
   ]
  },
  {
   "cell_type": "code",
   "execution_count": 14,
   "metadata": {},
   "outputs": [
    {
     "name": "stdout",
     "output_type": "stream",
     "text": [
      "invalid literal for int() with base 10: '?????????????????????????????????'\n"
     ]
    }
   ],
   "source": [
    "x, y, z = '', '', ''\n",
    "for line in text:\n",
    "    line = line.split(' ')[-1]\n",
    "    try:\n",
    "        xi = int(line[:xbits])\n",
    "        yi = int(line[xbits:xbits+ybits])\n",
    "        zi = int(line[xbits+ybits:xbits+ybits+zbits])\n",
    "    except Exception as e:\n",
    "        print(e)\n",
    "    else:\n",
    "        x += str(xi)\n",
    "        y += str(yi)\n",
    "        z += str(zi)\n"
   ]
  },
  {
   "cell_type": "code",
   "execution_count": 16,
   "metadata": {},
   "outputs": [],
   "source": [
    "with open(\"./lorenz_system/processed data/xi.txt\", \"w\") as destination:\n",
    "    destination.writelines(x)\n",
    "with open(\"./lorenz_system/processed data/yi.txt\", \"w\") as destination:\n",
    "    destination.writelines(y)\n",
    "with open(\"./lorenz_system/processed data/zi.txt\", \"w\") as destination:\n",
    "    destination.writelines(z)"
   ]
  },
  {
   "cell_type": "code",
   "execution_count": null,
   "metadata": {},
   "outputs": [],
   "source": []
  }
 ],
 "metadata": {
  "interpreter": {
   "hash": "937d7f0cbe238b87242774afb6242b5ef9dc9ad2c6d48f5ad41366a425c227f7"
  },
  "kernelspec": {
   "display_name": "Python 3.9.9 64-bit (windows store)",
   "language": "python",
   "name": "python3"
  },
  "language_info": {
   "codemirror_mode": {
    "name": "ipython",
    "version": 3
   },
   "file_extension": ".py",
   "mimetype": "text/x-python",
   "name": "python",
   "nbconvert_exporter": "python",
   "pygments_lexer": "ipython3",
   "version": "3.9.9"
  },
  "orig_nbformat": 4
 },
 "nbformat": 4,
 "nbformat_minor": 2
}
